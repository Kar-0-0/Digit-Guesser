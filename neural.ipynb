{
 "cells": [
  {
   "cell_type": "markdown",
   "metadata": {},
   "source": [
    "# Importing Libraries"
   ]
  },
  {
   "cell_type": "code",
   "execution_count": 1,
   "metadata": {},
   "outputs": [],
   "source": [
    "import torch\n",
    "import torch.nn as nn\n",
    "from torchvision import datasets \n",
    "from torchvision.datasets import MNIST\n",
    "from torchvision import transforms\n",
    "from torchvision.transforms import ToTensor\n",
    "import numpy as np \n",
    "from matplotlib import pyplot as plt\n",
    "import torch.nn.functional as F\n",
    "import torch.optim as optim"
   ]
  },
  {
   "cell_type": "markdown",
   "metadata": {},
   "source": [
    "# Loading in MNIST Dataset"
   ]
  },
  {
   "cell_type": "code",
   "execution_count": 2,
   "metadata": {},
   "outputs": [
    {
     "name": "stdout",
     "output_type": "stream",
     "text": [
      "Shape of X: torch.Size([64, 1, 28, 28])\n",
      "Shape of Y: torch.Size([64])\n",
      "Shape of X Test: torch.Size([64, 1, 28, 28])\n",
      "Shape of Y Test: torch.Size([64])\n"
     ]
    }
   ],
   "source": [
    "transform = transforms.Compose([\n",
    "    transforms.ToTensor(), \n",
    "    transforms.Normalize((0.5,), (0.5,))\n",
    "])\n",
    "\n",
    "train_data = MNIST(root='C:\\\\Users\\\\Kartik Mehta\\\\Documents\\\\torch\\\\data', train=True, download=True, transform=transform)\n",
    "test_data = MNIST(root='C:\\\\Users\\\\Kartik Mehta\\\\Documents\\\\torch\\\\data', train=False, download=True, transform=transform)\n",
    "\n",
    "train_loader = torch.utils.data.DataLoader(train_data, batch_size=64, shuffle=True)\n",
    "test_loader = torch.utils.data.DataLoader(test_data, batch_size=64, shuffle=False)\n",
    "\n",
    "for batch in train_loader:\n",
    "    X, y = batch\n",
    "    print(\"Shape of X:\", X.shape)\n",
    "    print(\"Shape of Y:\", y.shape)\n",
    "    break\n",
    "\n",
    "for test_batch in test_loader:\n",
    "    X_test, y_test = test_batch\n",
    "    print(\"Shape of X Test:\", X_test.shape)\n",
    "    print(\"Shape of Y Test:\", y_test.shape)\n",
    "    break"
   ]
  },
  {
   "cell_type": "markdown",
   "metadata": {},
   "source": [
    "# Looking at Data Features"
   ]
  },
  {
   "cell_type": "code",
   "execution_count": 3,
   "metadata": {},
   "outputs": [
    {
     "name": "stdout",
     "output_type": "stream",
     "text": [
      "Training Data: Dataset MNIST\n",
      "    Number of datapoints: 60000\n",
      "    Root location: C:\\Users\\Kartik Mehta\\Documents\\torch\\data\n",
      "    Split: Train\n",
      "    StandardTransform\n",
      "Transform: Compose(\n",
      "               ToTensor()\n",
      "               Normalize(mean=(0.5,), std=(0.5,))\n",
      "           )\n",
      "\n",
      "----------------------------------------\n",
      "\n",
      "Testing Data: Dataset MNIST\n",
      "    Number of datapoints: 10000\n",
      "    Root location: C:\\Users\\Kartik Mehta\\Documents\\torch\\data\n",
      "    Split: Test\n",
      "    StandardTransform\n",
      "Transform: Compose(\n",
      "               ToTensor()\n",
      "               Normalize(mean=(0.5,), std=(0.5,))\n",
      "           )\n"
     ]
    }
   ],
   "source": [
    "print(f'Training Data: {train_data}')\n",
    "print('\\n----------------------------------------')\n",
    "print(f'\\nTesting Data: {test_data}')"
   ]
  },
  {
   "cell_type": "code",
   "execution_count": 4,
   "metadata": {},
   "outputs": [
    {
     "name": "stdout",
     "output_type": "stream",
     "text": [
      "Training Data Shape: torch.Size([60000, 28, 28])\n",
      "Testing Data Shape: torch.Size([10000, 28, 28])\n"
     ]
    }
   ],
   "source": [
    "print(f'Training Data Shape: {train_data.data.shape}')\n",
    "print(f'Testing Data Shape: {test_data.data.shape}')"
   ]
  },
  {
   "cell_type": "code",
   "execution_count": 5,
   "metadata": {},
   "outputs": [
    {
     "data": {
      "text/plain": [
       "<matplotlib.image.AxesImage at 0x1a8c3d287c0>"
      ]
     },
     "execution_count": 5,
     "metadata": {},
     "output_type": "execute_result"
    },
    {
     "data": {
      "image/png": "[encoded data removed]",
      "text/plain": [
       "<Figure size 640x480 with 1 Axes>"
      ]
     },
     "metadata": {},
     "output_type": "display_data"
    }
   ],
   "source": [
    "plt.imshow(train_data.data[0], cmap='gray')"
   ]
  },
  {
   "cell_type": "markdown",
   "metadata": {},
   "source": [
    "# Building the Model"
   ]
  },
  {
   "cell_type": "code",
   "execution_count": 6,
   "metadata": {},
   "outputs": [],
   "source": [
    "class DigitClassifier(nn.Module):\n",
    "    def __init__(self):\n",
    "        super(DigitClassifier, self).__init__()\n",
    "        self.l1 = nn.Linear(784, 512)\n",
    "        self.relu = nn.ReLU()\n",
    "        self.l2 = nn.Linear(512, 10)\n",
    "\n",
    "    def forward(self, x):\n",
    "        x = x.float()\n",
    "        x = x.reshape((-1, 28**2))\n",
    "        x = self.l2(self.relu(self.l1(x)))\n",
    "        return x.squeeze()"
   ]
  },
  {
   "cell_type": "markdown",
   "metadata": {},
   "source": [
    "# Training the Model"
   ]
  },
  {
   "cell_type": "code",
   "execution_count": 7,
   "metadata": {},
   "outputs": [
    {
     "name": "stdout",
     "output_type": "stream",
     "text": [
      "Epoch: 1\n",
      "    Accuracy: 0.9063333333333333\n",
      "Epoch: 2\n",
      "    Accuracy: 0.9565666666666667\n",
      "Epoch: 3\n",
      "    Accuracy: 0.9677666666666667\n",
      "Epoch: 4\n",
      "    Accuracy: 0.9732166666666666\n",
      "Epoch: 5\n",
      "    Accuracy: 0.9766166666666667\n"
     ]
    }
   ],
   "source": [
    "net = DigitClassifier()\n",
    "\n",
    "loss_func = nn.CrossEntropyLoss()\n",
    "optimizer = optim.Adam(net.parameters(), lr=0.001)\n",
    "\n",
    "epochs = 5\n",
    "\n",
    "for i in range(epochs):\n",
    "    net.train()\n",
    "    correct = 0\n",
    "    total = 0\n",
    "    for number, label in train_loader:\n",
    "        optimizer.zero_grad()\n",
    "        out = net(number)\n",
    "        _, predicted = torch.max(out, 1)\n",
    "        correct += (predicted == label).sum().item()\n",
    "        total += label.size(0)\n",
    "        loss = loss_func(out, label) \n",
    "        loss.backward()\n",
    "        optimizer.step()\n",
    "\n",
    "    accuracy = correct / total \n",
    "    print(f\"Epoch: {i + 1}\\n    Accuracy: {accuracy}\")\n"
   ]
  },
  {
   "cell_type": "code",
   "execution_count": 17,
   "metadata": {},
   "outputs": [],
   "source": [
    "torch.save(net.state_dict(), \"FFC_state_dict.pth\")"
   ]
  },
  {
   "cell_type": "markdown",
   "metadata": {},
   "source": [
    "# Model Evaluation "
   ]
  },
  {
   "cell_type": "code",
   "execution_count": 9,
   "metadata": {},
   "outputs": [
    {
     "name": "stdout",
     "output_type": "stream",
     "text": [
      "Accuracy: 97.41%\n"
     ]
    }
   ],
   "source": [
    "model = torch.load(f=\"FFC\")\n",
    "model.eval()\n",
    "\n",
    "correct = 0\n",
    "total = 0\n",
    "\n",
    "\n",
    "with torch.no_grad():\n",
    "    for images, labels in test_loader:\n",
    "        outputs = model(images)\n",
    "        _, predicted = torch.max(outputs, 1)\n",
    "        total += labels.size(0)\n",
    "        correct += (predicted == labels).sum().item()\n",
    "\n",
    "accuracy = 100 * correct / total\n",
    "print('Accuracy: {:.2f}%'.format(accuracy))"
   ]
  },
  {
   "cell_type": "markdown",
   "metadata": {},
   "source": [
    "# Passing Individual Images"
   ]
  },
  {
   "cell_type": "code",
   "execution_count": 26,
   "metadata": {},
   "outputs": [
    {
     "name": "stdout",
     "output_type": "stream",
     "text": [
      "Predicted class: 7\n"
     ]
    },
    {
     "data": {
      "text/plain": [
       "<matplotlib.image.AxesImage at 0x1a8cf9a3c10>"
      ]
     },
     "execution_count": 26,
     "metadata": {},
     "output_type": "execute_result"
    },
    {
     "data": {
      "image/png": "[encoded data removed]",
      "text/plain": [
       "<Figure size 640x480 with 1 Axes>"
      ]
     },
     "metadata": {},
     "output_type": "display_data"
    }
   ],
   "source": [
    "img = 0\n",
    "\n",
    "with torch.no_grad():\n",
    "    outputs = model(X_test[img])\n",
    "    # Process predictions\n",
    "    _, predicted = torch.max(outputs, -1)\n",
    "\n",
    "print(\"Predicted class:\", predicted.item())\n",
    "plt.imshow(X_test.data[img].view(28, 28))"
   ]
  },
  {
   "cell_type": "code",
   "execution_count": null,
   "metadata": {},
   "outputs": [],
   "source": []
  }
 ],
 "metadata": {
  "kernelspec": {
   "display_name": "base",
   "language": "python",
   "name": "python3"
  },
  "language_info": {
   "codemirror_mode": {
    "name": "ipython",
    "version": 3
   },
   "file_extension": ".py",
   "mimetype": "text/x-python",
   "name": "python",
   "nbconvert_exporter": "python",
   "pygments_lexer": "ipython3",
   "version": "3.9.13"
  }
 },
 "nbformat": 4,
 "nbformat_minor": 2
}
